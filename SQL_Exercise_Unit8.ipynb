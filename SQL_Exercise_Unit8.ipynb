{
 "cells": [
  {
   "cell_type": "code",
   "execution_count": 219,
   "metadata": {},
   "outputs": [
    {
     "name": "stdout",
     "output_type": "stream",
     "text": [
      "2.6.0\n",
      "2. Query all tasks\n",
      "(0, 'Tennis Court 1', 5, 25, 10000, 200)\n",
      "(1, 'Tennis Court 2', 5, 25, 8000, 200)\n",
      "(2, 'Badminton Court', 0, 15.5, 4000, 50)\n",
      "(3, 'Table Tennis', 0, 5, 320, 10)\n",
      "(4, 'Massage Room 1', 9.9, 80, 4000, 3000)\n",
      "(5, 'Massage Room 2', 9.9, 80, 4000, 3000)\n",
      "(6, 'Squash Court', 3.5, 17.5, 5000, 80)\n",
      "(7, 'Snooker Table', 0, 5, 450, 15)\n",
      "(8, 'Pool Table', 0, 5, 400, 15)\n"
     ]
    }
   ],
   "source": [
    "import sqlite3\n",
    "from sqlite3 import Error\n",
    "\n",
    " \n",
    "def create_connection(db_file):\n",
    "    \"\"\" create a database connection to the SQLite database\n",
    "        specified by the db_file\n",
    "    :param db_file: database file\n",
    "    :return: Connection object or None\n",
    "    \"\"\"\n",
    "    conn = None\n",
    "    try:\n",
    "        conn = sqlite3.connect(db_file)\n",
    "        print(sqlite3.version)\n",
    "    except Error as e:\n",
    "        print(e)\n",
    " \n",
    "    return conn\n",
    "\n",
    " \n",
    "def select_all_tasks(conn):\n",
    "    \"\"\"\n",
    "    Query all rows in the tasks table\n",
    "    :param conn: the Connection object\n",
    "    :return:\n",
    "    \"\"\"\n",
    "    cur = conn.cursor()\n",
    "    \n",
    "    query1 = \"\"\"\n",
    "        SELECT *\n",
    "        FROM FACILITIES\n",
    "        \"\"\"\n",
    "    cur.execute(query1)\n",
    " \n",
    "    rows = cur.fetchall()\n",
    " \n",
    "    for row in rows:\n",
    "        print(row)\n",
    "\n",
    "\n",
    "def main():\n",
    "    database = \"sqlite_db_pythonsqlite.db\"\n",
    " \n",
    "    # create a database connection\n",
    "    conn = create_connection(database)\n",
    "    with conn: \n",
    "        print(\"2. Query all tasks\")\n",
    "        select_all_tasks(conn)\n",
    " \n",
    " \n",
    "if __name__ == '__main__':\n",
    "    main()"
   ]
  },
  {
   "cell_type": "markdown",
   "metadata": {},
   "source": [
    "### Things are working: we will now add queries as necessary to answer the questions."
   ]
  },
  {
   "cell_type": "code",
   "execution_count": 220,
   "metadata": {},
   "outputs": [
    {
     "name": "stdout",
     "output_type": "stream",
     "text": [
      "2.6.0\n"
     ]
    }
   ],
   "source": [
    "database = \"sqlite_db_pythonsqlite.db\"\n",
    "conn = create_connection(database)\n"
   ]
  },
  {
   "cell_type": "code",
   "execution_count": 221,
   "metadata": {},
   "outputs": [
    {
     "name": "stdout",
     "output_type": "stream",
     "text": [
      "(0, 'Tennis Court 1', 5, 25, 10000, 200)\n",
      "(1, 'Tennis Court 2', 5, 25, 8000, 200)\n",
      "(2, 'Badminton Court', 0, 15.5, 4000, 50)\n",
      "(3, 'Table Tennis', 0, 5, 320, 10)\n",
      "(4, 'Massage Room 1', 9.9, 80, 4000, 3000)\n",
      "(5, 'Massage Room 2', 9.9, 80, 4000, 3000)\n",
      "(6, 'Squash Court', 3.5, 17.5, 5000, 80)\n",
      "(7, 'Snooker Table', 0, 5, 450, 15)\n",
      "(8, 'Pool Table', 0, 5, 400, 15)\n"
     ]
    }
   ],
   "source": [
    "cur = conn.cursor()\n",
    "query1 = 'select * from facilities'\n",
    "cur.execute(query1)\n",
    "result = cur.fetchall()\n",
    "for row in result:\n",
    "    print(row)"
   ]
  },
  {
   "cell_type": "code",
   "execution_count": 222,
   "metadata": {},
   "outputs": [
    {
     "name": "stdout",
     "output_type": "stream",
     "text": [
      "[(0, 'Tennis Court 1', 5, 25, 10000, 200), (1, 'Tennis Court 2', 5, 25, 8000, 200), (2, 'Badminton Court', 0, 15.5, 4000, 50), (3, 'Table Tennis', 0, 5, 320, 10), (4, 'Massage Room 1', 9.9, 80, 4000, 3000), (5, 'Massage Room 2', 9.9, 80, 4000, 3000), (6, 'Squash Court', 3.5, 17.5, 5000, 80), (7, 'Snooker Table', 0, 5, 450, 15), (8, 'Pool Table', 0, 5, 400, 15)]\n"
     ]
    }
   ],
   "source": [
    "print(result)"
   ]
  },
  {
   "cell_type": "code",
   "execution_count": 223,
   "metadata": {},
   "outputs": [
    {
     "name": "stdout",
     "output_type": "stream",
     "text": [
      "(0, 'Tennis Court 1')\n",
      "(1, 'Tennis Court 2')\n",
      "(4, 'Massage Room 1')\n",
      "(5, 'Massage Room 2')\n",
      "(6, 'Squash Court')\n"
     ]
    }
   ],
   "source": [
    "#Q1Some of the facilities charge a fee to members, but some do not.\n",
    "#Write a SQL query to produce a list of the names of the facilities that do\n",
    "cur = conn.cursor()\n",
    "query1 = 'select facid, name from facilities where membercost > 0'\n",
    "cur.execute(query1)\n",
    "result = cur.fetchall()\n",
    "for row in result:\n",
    "    print(row)"
   ]
  },
  {
   "cell_type": "code",
   "execution_count": 224,
   "metadata": {},
   "outputs": [
    {
     "name": "stdout",
     "output_type": "stream",
     "text": [
      " Number of facilities that do not charge a fee:  4\n"
     ]
    }
   ],
   "source": [
    "#Q2 How many facilities do not charge a fee to members? \n",
    "query2 = 'select count(facid) from facilities where membercost = 0'\n",
    "cur.execute(query2)\n",
    "result = cur.fetchall()\n",
    "print(\" Number of facilities that do not charge a fee: \",result[0][0])"
   ]
  },
  {
   "cell_type": "code",
   "execution_count": 225,
   "metadata": {},
   "outputs": [
    {
     "name": "stdout",
     "output_type": "stream",
     "text": [
      "(0, 'Tennis Court 1')\n",
      "(1, 'Tennis Court 2')\n",
      "(4, 'Massage Room 1')\n",
      "(5, 'Massage Room 2')\n",
      "(6, 'Squash Court')\n"
     ]
    }
   ],
   "source": [
    "\"\"\" Q3: Write an SQL query to show a list of facilities that charge a fee to members,\n",
    "where the fee is less than 20% of the facility's monthly maintenance cost.\n",
    "Return the facid, facility name, member cost, and monthly maintenance of the\n",
    "facilities in question. \"\"\"\n",
    "cur = conn.cursor()\n",
    "query1 = 'select facid, name from facilities where (membercost > 0) and (membercost < 0.2*monthlymaintenance) '\n",
    "cur.execute(query1)\n",
    "result = cur.fetchall()\n",
    "for row in result:\n",
    "    print(row)"
   ]
  },
  {
   "cell_type": "code",
   "execution_count": 226,
   "metadata": {},
   "outputs": [
    {
     "name": "stdout",
     "output_type": "stream",
     "text": [
      "(1, 'Tennis Court 2', 5, 25, 8000, 200)\n",
      "(5, 'Massage Room 2', 9.9, 80, 4000, 3000)\n"
     ]
    }
   ],
   "source": [
    "\"\"\"Q4: Write an SQL query to retrieve the details of facilities with ID 1 and 5.\n",
    "Try writing the query without using the OR operator. \"\"\"\n",
    "query4 = 'select * from facilities where facid in (1,5)'\n",
    "cur.execute(query4)\n",
    "result = cur.fetchall()\n",
    "for row in result:\n",
    "    print(row)"
   ]
  },
  {
   "cell_type": "code",
   "execution_count": 227,
   "metadata": {},
   "outputs": [
    {
     "name": "stdout",
     "output_type": "stream",
     "text": [
      "(0, 'expensive')\n",
      "(1, 'expensive')\n",
      "(2, 'cheap')\n",
      "(3, 'cheap')\n",
      "(4, 'expensive')\n",
      "(5, 'expensive')\n",
      "(6, 'cheap')\n",
      "(7, 'cheap')\n",
      "(8, 'cheap')\n"
     ]
    }
   ],
   "source": [
    "\"\"\"/* Q5: Produce a list of facilities, with each labelled as\n",
    "'cheap' or 'expensive', depending on if their monthly maintenance cost is\n",
    "more than $100. Return the name and monthly maintenance of the facilities\n",
    "in question. */\n",
    "\"\"\"\n",
    "query5 = \"\"\"select facid, case \n",
    " when monthlymaintenance < 100 then 'cheap' \n",
    " else 'expensive'\n",
    " end as [group]\n",
    " from facilities \"\"\"\n",
    "\n",
    "cur.execute(query5)\n",
    "result = cur.fetchall()\n",
    "for row in result:\n",
    "    print(row)\n"
   ]
  },
  {
   "cell_type": "code",
   "execution_count": 228,
   "metadata": {},
   "outputs": [
    {
     "name": "stdout",
     "output_type": "stream",
     "text": [
      "(1, 'Smith', 'Darren', '8 Bloomsbury Close, Boston', 4321, '555-555-5555', '', '2012-07-02 12:02:05')\n",
      "(37, 'Smith', 'Darren', '3 Funktown, Denzington, Boston', 66796, '(822) 577-3541', '', '2012-09-26 18:08:45')\n"
     ]
    }
   ],
   "source": [
    "\"\"\"/* Q6: You'd like to get the first and last name of the last member(s)\n",
    "who signed up. Try not to use the LIMIT clause for your solution. */\"\"\"\n",
    "query6= \"\"\"select * from members \n",
    "where surname <> 'GUEST' \n",
    "order by joindate\"\"\"\n",
    "cur.execute(query6)\n",
    "result = cur.fetchall()\n",
    "#for row in result:\n",
    "#    print(row)\n",
    "print(result[0])\n",
    "print(result[-1])"
   ]
  },
  {
   "cell_type": "code",
   "execution_count": 229,
   "metadata": {},
   "outputs": [
    {
     "name": "stdout",
     "output_type": "stream",
     "text": [
      "('Darren', 'Smith')\n",
      "('Tracy', 'Smith')\n",
      "('GUEST', 'GUEST')\n",
      "('Tim', 'Rownam')\n",
      "('Janice', 'Joplette')\n",
      "('Gerald', 'Butters')\n",
      "('Tim', 'Boothe')\n",
      "('Burton', 'Tracy')\n",
      "('Nancy', 'Dare')\n",
      "('Ponder', 'Stibbons')\n",
      "('Charles', 'Owen')\n",
      "('Anne', 'Baker')\n",
      "('David', 'Jones')\n",
      "('Jemima', 'Farrell')\n",
      "('Jack', 'Smith')\n",
      "('Timothy', 'Baker')\n",
      "('Florence', 'Bader')\n",
      "('David', 'Pinker')\n",
      "('Matthew', 'Genting')\n",
      "('Joan', 'Coplin')\n",
      "('Anna', 'Mackenzie')\n",
      "('Ramnaresh', 'Sarwin')\n",
      "('Douglas', 'Jones')\n",
      "('David', 'Farrell')\n",
      "('Millicent', 'Purview')\n",
      "('Henrietta', 'Rumney')\n",
      "('Henry', 'Worthington-Smyth')\n",
      "('John', 'Hunt')\n",
      "('Erica', 'Crumpet')\n"
     ]
    }
   ],
   "source": [
    "\"\"\"/* Q7: Produce a list of all members who have used a tennis court.\n",
    "Include in your output the name of the court, and the name of the member\n",
    "formatted as a single column. Ensure no duplicate data, and order by\n",
    "the member name. */\n",
    "\"\"\"\n",
    "\n",
    "query7 = \"\"\"select distinct firstname, surname \n",
    "from members as m \n",
    "inner join bookings as b\n",
    "on m.memid = b.memid\n",
    "where facid in (0,1,3)\"\"\"\n",
    "\n",
    "cur.execute(query7)\n",
    "result = cur.fetchall()\n",
    "for row in result:\n",
    "    print(row)\n"
   ]
  },
  {
   "cell_type": "code",
   "execution_count": 230,
   "metadata": {},
   "outputs": [
    {
     "name": "stdout",
     "output_type": "stream",
     "text": [
      "('Massage Room 2', 'GUEST', 'GUEST', 320)\n",
      "('Massage Room 1', 'GUEST', 'GUEST', 160)\n",
      "('Massage Room 1', 'GUEST', 'GUEST', 160)\n",
      "('Massage Room 1', 'GUEST', 'GUEST', 160)\n",
      "('Tennis Court 2', 'GUEST', 'GUEST', 150)\n",
      "('Tennis Court 1', 'GUEST', 'GUEST', 75)\n",
      "('Tennis Court 1', 'GUEST', 'GUEST', 75)\n",
      "('Tennis Court 2', 'GUEST', 'GUEST', 75)\n",
      "('Squash Court', 'GUEST', 'GUEST', 70.0)\n",
      "('Massage Room 1', 'Farrell', 'Jemima', 39.6)\n",
      "('Squash Court', 'GUEST', 'GUEST', 35.0)\n",
      "('Squash Court', 'GUEST', 'GUEST', 35.0)\n"
     ]
    }
   ],
   "source": [
    "\"\"\"/* Q8: Produce a list of bookings on the day of 2012-09-14 which\n",
    "will cost the member (or guest) more than $30. Remember that guests have\n",
    "different costs to members (the listed costs are per half-hour 'slot'), and\n",
    "the guest user's ID is always 0. Include in your output the name of the\n",
    "facility, the name of the member formatted as a single column, and the cost.\n",
    "Order by descending cost, and do not use any subqueries. */\"\"\"\n",
    "\n",
    "query8 = \"\"\"\n",
    "SELECT f.name, m.surname, m.firstname,\n",
    "Case\n",
    "when b.memid <> 0 then slots*f.membercost\n",
    "else slots*f.guestcost\n",
    "end as totalcost\n",
    "FROM `Bookings` as b\n",
    "inner join facilities as f\n",
    "on b.facid = f.facid\n",
    "inner join members as m\n",
    "on b.memid = m.memid\n",
    "WHERE (`starttime` LIKE '2012-09-14%') and (totalcost> 30)\n",
    "order by totalcost desc\n",
    "\n",
    "\"\"\"\n",
    "\n",
    "cur.execute(query8)\n",
    "result = cur.fetchall()\n",
    "for row in result:\n",
    "    print(row)"
   ]
  },
  {
   "cell_type": "code",
   "execution_count": 231,
   "metadata": {},
   "outputs": [
    {
     "name": "stdout",
     "output_type": "stream",
     "text": [
      "('Massage Room 2', 'GUEST', 'GUEST', 320)\n",
      "('Massage Room 1', 'GUEST', 'GUEST', 160)\n",
      "('Massage Room 1', 'GUEST', 'GUEST', 160)\n",
      "('Massage Room 1', 'GUEST', 'GUEST', 160)\n",
      "('Tennis Court 2', 'GUEST', 'GUEST', 150)\n",
      "('Tennis Court 1', 'GUEST', 'GUEST', 75)\n",
      "('Tennis Court 1', 'GUEST', 'GUEST', 75)\n",
      "('Tennis Court 2', 'GUEST', 'GUEST', 75)\n",
      "('Squash Court', 'GUEST', 'GUEST', 70.0)\n",
      "('Massage Room 1', 'Farrell', 'Jemima', 39.6)\n",
      "('Squash Court', 'GUEST', 'GUEST', 35.0)\n",
      "('Squash Court', 'GUEST', 'GUEST', 35.0)\n"
     ]
    }
   ],
   "source": [
    "\"\"\"/* Q9: This time, produce the same result as in Q8, but using a subquery. */\"\"\"\n",
    "\n",
    "query9 = \"\"\"\n",
    "SELECT f.name, m.surname, m.firstname,\n",
    "Case\n",
    "when b.memid <> 0 then slots*f.membercost\n",
    "else slots*f.guestcost\n",
    "end as totalcost\n",
    "FROM `Bookings` as b\n",
    "inner join facilities as f\n",
    "on b.facid = f.facid\n",
    "inner join members as m\n",
    "on b.memid = m.memid\n",
    "WHERE (`starttime` LIKE '2012-09-14%') and (totalcost> 30)\n",
    "order by totalcost desc\n",
    "\n",
    "\"\"\"\n",
    "\n",
    "cur.execute(query9)\n",
    "result = cur.fetchall()\n",
    "for row in result:\n",
    "    print(row)"
   ]
  },
  {
   "cell_type": "code",
   "execution_count": 232,
   "metadata": {},
   "outputs": [
    {
     "name": "stdout",
     "output_type": "stream",
     "text": [
      "('Table Tennis', 180)\n",
      "('Snooker Table', 240)\n",
      "('Pool Table', 270)\n"
     ]
    }
   ],
   "source": [
    "\"\"\"/* Q10: Produce a list of facilities with a total revenue less than 1000.\n",
    "The output of facility name and total revenue, sorted by revenue. Remember\n",
    "that there's a different cost for guests and members! */\"\"\"\n",
    "\n",
    "query10 = \"\"\"\n",
    "\n",
    "select f.name,\n",
    "sum(Case\n",
    "when b.memid <> 0 then b.slots*f.membercost\n",
    "else b.slots*f.guestcost\n",
    "end) as revenue\n",
    "FROM `bookings` as b\n",
    "inner join facilities as f\n",
    "on b.facid = f.facid\n",
    "inner join members as m\n",
    "on b.memid = m.memid\n",
    "\n",
    "\n",
    "group by f.facid\n",
    "having revenue < 1000\n",
    "order by revenue\n",
    "\n",
    "\n",
    "\n",
    "\"\"\"\n",
    "\n",
    "cur.execute(query10)\n",
    "result = cur.fetchall()\n",
    "for row in result:\n",
    "    print(row)\n"
   ]
  },
  {
   "cell_type": "code",
   "execution_count": 233,
   "metadata": {},
   "outputs": [
    {
     "name": "stdout",
     "output_type": "stream",
     "text": [
      "('GUEST', 'GUEST', None, None)\n",
      "('Smith', 'Darren', None, None)\n",
      "('Smith', 'Tracy', None, None)\n",
      "('Rownam', 'Tim', None, None)\n",
      "('Tracy', 'Burton', None, None)\n",
      "('Farrell', 'Jemima', None, None)\n",
      "('Farrell', 'David', None, None)\n",
      "('Tupperware', 'Hyacinth', None, None)\n",
      "('Smith', 'Darren', None, None)\n",
      "('Sarwin', 'Ramnaresh', 'Bader', 'Florence')\n",
      "('Coplin', 'Joan', 'Baker', 'Timothy')\n",
      "('Genting', 'Matthew', 'Butters', 'Gerald')\n",
      "('Baker', 'Timothy', 'Farrell', 'Jemima')\n",
      "('Pinker', 'David', 'Farrell', 'Jemima')\n",
      "('Rumney', 'Henrietta', 'Genting', 'Matthew')\n",
      "('Jones', 'Douglas', 'Jones', 'David')\n",
      "('Dare', 'Nancy', 'Joplette', 'Janice')\n",
      "('Jones', 'David', 'Joplette', 'Janice')\n",
      "('Hunt', 'John', 'Purview', 'Millicent')\n",
      "('Boothe', 'Tim', 'Rownam', 'Tim')\n",
      "('Joplette', 'Janice', 'Smith', 'Darren')\n",
      "('Butters', 'Gerald', 'Smith', 'Darren')\n",
      "('Owen', 'Charles', 'Smith', 'Darren')\n",
      "('Smith', 'Jack', 'Smith', 'Darren')\n",
      "('Mackenzie', 'Anna', 'Smith', 'Darren')\n",
      "('Worthington-Smyth', 'Henry', 'Smith', 'Tracy')\n",
      "('Purview', 'Millicent', 'Smith', 'Tracy')\n",
      "('Crumpet', 'Erica', 'Smith', 'Tracy')\n",
      "('Baker', 'Anne', 'Stibbons', 'Ponder')\n",
      "('Bader', 'Florence', 'Stibbons', 'Ponder')\n",
      "('Stibbons', 'Ponder', 'Tracy', 'Burton')\n"
     ]
    }
   ],
   "source": [
    "\"\"\"/* Q11: Produce a report of members and who recommended them in alphabetic surname,firstname order */\"\"\"\n",
    "query11 = \"\"\"\n",
    "\n",
    "select m1.surname, m1.firstname, (select m2.surname from members as m2\n",
    "where m1.recommendedby = m2.memid) as rec_surname,\n",
    "(select m2.firstname from members as m2\n",
    "where m1.recommendedby = m2.memid) as rec_firstname\n",
    "from members as m1\n",
    "order by rec_surname, rec_firstname\n",
    "\n",
    "\n",
    "\"\"\"\n",
    "cur.execute(query11)\n",
    "result = cur.fetchall()\n",
    "for row in result:\n",
    "    print(row)\n"
   ]
  },
  {
   "cell_type": "code",
   "execution_count": 234,
   "metadata": {},
   "outputs": [
    {
     "name": "stdout",
     "output_type": "stream",
     "text": [
      "(1, 3, 'Table Tennis')\n",
      "(2, 0, 'Tennis Court 1')\n",
      "(3, 4, 'Massage Room 1')\n",
      "(4, 4, 'Massage Room 1')\n",
      "(5, 0, 'Tennis Court 1')\n",
      "(6, 1, 'Tennis Court 2')\n",
      "(7, 2, 'Badminton Court')\n",
      "(8, 1, 'Tennis Court 2')\n",
      "(9, 1, 'Tennis Court 2')\n",
      "(10, 0, 'Tennis Court 1')\n",
      "(11, 1, 'Tennis Court 2')\n",
      "(12, 0, 'Tennis Court 1')\n",
      "(13, 3, 'Table Tennis')\n",
      "(14, 4, 'Massage Room 1')\n",
      "(15, 2, 'Badminton Court')\n",
      "(16, 1, 'Tennis Court 2')\n",
      "(17, 7, 'Snooker Table')\n",
      "(20, 5, 'Massage Room 2')\n",
      "(21, 2, 'Badminton Court')\n",
      "(22, 7, 'Snooker Table')\n",
      "(24, 1, 'Tennis Court 2')\n",
      "(26, 2, 'Badminton Court')\n",
      "(27, 7, 'Snooker Table')\n",
      "(28, 0, 'Tennis Court 1')\n",
      "(29, 2, 'Badminton Court')\n",
      "(30, 2, 'Badminton Court')\n",
      "(33, 7, 'Snooker Table')\n",
      "(35, 0, 'Tennis Court 1')\n",
      "(36, 2, 'Badminton Court')\n"
     ]
    }
   ],
   "source": [
    "\"\"\"/* Q12: Find the facilities with their usage by member, but not guests */\"\"\"\n",
    "query12 = \"\"\"\n",
    "\n",
    "select memid, facid, f.name\n",
    "from bookings\n",
    "inner join facilities as f\n",
    "using(facid)\n",
    "where memid <> 0 \n",
    "group by memid\n",
    "\n",
    "\n",
    "\"\"\"\n",
    "cur.execute(query12)\n",
    "result = cur.fetchall()\n",
    "for row in result:\n",
    "    print(row)\n"
   ]
  },
  {
   "cell_type": "code",
   "execution_count": 235,
   "metadata": {},
   "outputs": [
    {
     "name": "stdout",
     "output_type": "stream",
     "text": [
      "(658, 'Table Tennis', '2012-07-03 11:00:00', '07')\n",
      "(1472, 'Tennis Court 1', '2012-08-01 15:30:00', '08')\n",
      "(1913, 'Tennis Court 1', '2012-09-01 08:00:00', '09')\n"
     ]
    }
   ],
   "source": [
    "\"\"\"/* Q13: Find the facilities usage by month, but not guests */\"\"\"\n",
    "\n",
    "query12 = \"\"\"\n",
    "\n",
    "select count(bookid) facid, f.name, starttime, substr(starttime, 6,2) as month\n",
    "from bookings\n",
    "inner join facilities as f\n",
    "using(facid)\n",
    "group by month\n",
    "\n",
    "\n",
    "\"\"\"\n",
    "cur.execute(query12)\n",
    "result = cur.fetchall()\n",
    "for row in result:\n",
    "    print(row)"
   ]
  },
  {
   "cell_type": "code",
   "execution_count": null,
   "metadata": {},
   "outputs": [],
   "source": []
  }
 ],
 "metadata": {
  "kernelspec": {
   "display_name": "Python 3",
   "language": "python",
   "name": "python3"
  },
  "language_info": {
   "codemirror_mode": {
    "name": "ipython",
    "version": 3
   },
   "file_extension": ".py",
   "mimetype": "text/x-python",
   "name": "python",
   "nbconvert_exporter": "python",
   "pygments_lexer": "ipython3",
   "version": "3.7.4"
  }
 },
 "nbformat": 4,
 "nbformat_minor": 2
}
